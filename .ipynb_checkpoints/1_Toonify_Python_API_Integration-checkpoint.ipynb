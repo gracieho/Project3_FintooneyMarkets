{
 "cells": [
  {
   "cell_type": "code",
   "execution_count": 1,
   "id": "AOT7kQl3II0i",
   "metadata": {
    "id": "AOT7kQl3II0i"
   },
   "outputs": [],
   "source": [
    "# Section 1 - \n",
    "# This code takes in an image, and using the Toonify API, \n",
    "# the image is altered to an 'avatar' based on the selected modification type (eg comic, zombify etc).\n",
    "# The altered image avatar is then output as a png file, uploaded to IPFS, with IPFS link returned."
   ]
  },
  {
   "cell_type": "code",
   "execution_count": 2,
   "id": "8e94cbfa-9c0d-4ea4-9e06-9efe11946dc2",
   "metadata": {
    "colab": {
     "base_uri": "https://localhost:8080/",
     "height": 350
    },
    "executionInfo": {
     "elapsed": 21,
     "status": "error",
     "timestamp": 1631159433728,
     "user": {
      "displayName": "G H",
      "photoUrl": "",
      "userId": "07581169905931108823"
     },
     "user_tz": -600
    },
    "id": "8e94cbfa-9c0d-4ea4-9e06-9efe11946dc2",
    "outputId": "0c4e14bd-3d90-48f3-ec39-6fe77f9c8889"
   },
   "outputs": [],
   "source": [
    "# Initial imports\n",
    "import os\n",
    "import requests\n",
    "from dotenv import load_dotenv\n",
    "load_dotenv()\n",
    "\n",
    "# Imports required to convert jpeg image in bytes to jpeg\n",
    "from PIL import Image\n",
    "import io"
   ]
  },
  {
   "cell_type": "code",
   "execution_count": 3,
   "id": "RUXnWN39IYGC",
   "metadata": {
    "id": "RUXnWN39IYGC"
   },
   "outputs": [],
   "source": [
    "# Set API keys\n",
    "rapid_api_key = os.getenv(\"X-RapidAPI-Key\")\n",
    "Pinata_API_Key = os.getenv(\"Pinata_API_Key\")\n",
    "Pinata_Secret_Key = os.getenv(\"Pinata_API_Secret\")"
   ]
  },
  {
   "cell_type": "code",
   "execution_count": 4,
   "id": "cljqiiRsIdUA",
   "metadata": {
    "id": "cljqiiRsIdUA"
   },
   "outputs": [],
   "source": [
    "# Request to send an image for toonification to Toonify API (\"Simu_og.jpg\") - note returns jpeg image in bytes\n",
    "# Set the toonify modifcation type in first line.\n",
    "\n",
    "url = \"https://toonify.p.rapidapi.com/v0/toonifyplus\" # set the toonify type [../v0/toonify, comic, caricature, emojify, zombify, toonifyplus, halloweenify]\n",
    "query = {\n",
    "        \"face_index\": 1, \n",
    "        \"return_aligned\":\"true\",\n",
    "        }\n",
    "headers = {\n",
    "        \"x-rapidapi-host\": \"toonify.p.rapidapi.com\",\n",
    "        \"x-rapidapi-key\": rapid_api_key,\n",
    "        \"accept\": \"image/jpeg\"\n",
    "        }\n",
    "files = {\"image\": open(\"Simu_og.jpg\", \"rb\")} # select image to capture\n",
    "\n",
    "response = requests.request(\"POST\", url, files=files, headers=headers, params=query)\n",
    "\n",
    "image = response.content # note returns jpeg image in bytes"
   ]
  },
  {
   "cell_type": "code",
   "execution_count": 5,
   "id": "DwarVEwgImTP",
   "metadata": {
    "id": "DwarVEwgImTP"
   },
   "outputs": [],
   "source": [
    "# Amends returned image from bytes to jpeg file (using PIL and io).  Returns original and toonified image side by side.  Returned image saved as \"Simu_output.png\".\n",
    "\n",
    "stream = io.BytesIO(image)\n",
    "img = Image.open(stream)\n",
    "\n",
    "img.save(\"Simu_output.png\") # choose file name and location to save images, will return original side by side with toonified image"
   ]
  },
  {
   "cell_type": "code",
   "execution_count": 6,
   "id": "c6aa88bc-72b1-4d33-8d72-69e6d7645edd",
   "metadata": {
    "id": "c6aa88bc-72b1-4d33-8d72-69e6d7645edd"
   },
   "outputs": [],
   "source": [
    "# Sends image to IPFS via pinata.  Function will return pinata link.\n",
    "\n",
    "pin_img_url = 'https://api.pinata.cloud/pinning/pinFileToIPFS'\n",
    "img_headers = {\n",
    " \"pinata_api_key\": Pinata_API_Key,\n",
    " \"pinata_secret_api_key\": Pinata_Secret_Key,\n",
    "}\n",
    "def pinIMGtoIPFS(img_pth):\n",
    "    file = {'file': open(img_pth, 'rb')}\n",
    "    r = requests.post(pin_img_url,files = file,headers=img_headers)\n",
    "    ipfs_hash = r.json()[\"IpfsHash\"]\n",
    "    return f\"https://gateway.pinata.cloud/ipfs/{ipfs_hash}\""
   ]
  },
  {
   "cell_type": "code",
   "execution_count": 7,
   "id": "byo6BxuJIsFY",
   "metadata": {
    "id": "byo6BxuJIsFY"
   },
   "outputs": [
    {
     "data": {
      "text/plain": [
       "'https://gateway.pinata.cloud/ipfs/QmZDmiXHppUxvnqqoW54g6mBFr6MfmUFaLrC9baiiGn1ZB'"
      ]
     },
     "execution_count": 7,
     "metadata": {},
     "output_type": "execute_result"
    }
   ],
   "source": [
    "# Run function to return pinata link\n",
    "\n",
    "pinIMGtoIPFS('Simu_output.png')"
   ]
  }
 ],
 "metadata": {
  "colab": {
   "collapsed_sections": [],
   "name": "Toonify_Python_API_Integration.ipynb",
   "provenance": []
  },
  "kernelspec": {
   "display_name": "Python 3",
   "language": "python",
   "name": "python3"
  },
  "language_info": {
   "codemirror_mode": {
    "name": "ipython",
    "version": 3
   },
   "file_extension": ".py",
   "mimetype": "text/x-python",
   "name": "python",
   "nbconvert_exporter": "python",
   "pygments_lexer": "ipython3",
   "version": "3.8.5"
  }
 },
 "nbformat": 4,
 "nbformat_minor": 5
}
